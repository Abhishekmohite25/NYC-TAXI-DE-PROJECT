{
 "cells": [
  {
   "cell_type": "code",
   "execution_count": 0,
   "metadata": {
    "application/vnd.databricks.v1+cell": {
     "cellMetadata": {
      "byteLimit": 2048000,
      "rowLimit": 10000
     },
     "inputWidgets": {},
     "nuid": "c2f6af82-2e87-4632-a824-0adb3ecbaebe",
     "showTitle": false,
     "tableResultSettingsMap": {},
     "title": ""
    }
   },
   "outputs": [],
   "source": [
    "from pyspark.sql.functions import *\n",
    "from pyspark.sql.types import *"
   ]
  },
  {
   "cell_type": "markdown",
   "metadata": {
    "application/vnd.databricks.v1+cell": {
     "cellMetadata": {
      "byteLimit": 2048000,
      "rowLimit": 10000
     },
     "inputWidgets": {},
     "nuid": "6c30d30f-7201-4899-abe3-3678b1eb0cad",
     "showTitle": false,
     "tableResultSettingsMap": {},
     "title": ""
    }
   },
   "source": [
    "# Data Reading"
   ]
  },
  {
   "cell_type": "markdown",
   "metadata": {
    "application/vnd.databricks.v1+cell": {
     "cellMetadata": {},
     "inputWidgets": {},
     "nuid": "1b4e0e71-e180-4f1c-bb8e-f2e8d556dc69",
     "showTitle": false,
     "tableResultSettingsMap": {},
     "title": ""
    }
   },
   "source": [
    "### trip_type"
   ]
  },
  {
   "cell_type": "code",
   "execution_count": 0,
   "metadata": {
    "application/vnd.databricks.v1+cell": {
     "cellMetadata": {
      "byteLimit": 2048000,
      "rowLimit": 10000
     },
     "inputWidgets": {},
     "nuid": "c2d89b3f-c224-4697-8a6f-680f2b0270cd",
     "showTitle": false,
     "tableResultSettingsMap": {},
     "title": ""
    }
   },
   "outputs": [
    {
     "output_type": "display_data",
     "data": {
      "text/html": [
       "<style scoped>\n",
       "  .table-result-container {\n",
       "    max-height: 300px;\n",
       "    overflow: auto;\n",
       "  }\n",
       "  table, th, td {\n",
       "    border: 1px solid black;\n",
       "    border-collapse: collapse;\n",
       "  }\n",
       "  th, td {\n",
       "    padding: 5px;\n",
       "  }\n",
       "  th {\n",
       "    text-align: left;\n",
       "  }\n",
       "</style><div class='table-result-container'><table class='table-result'><thead style='background-color: white'><tr><th>trip_type</th><th>description</th></tr></thead><tbody><tr><td>1</td><td>Street-hail</td></tr><tr><td>2</td><td>Dispatch</td></tr></tbody></table></div>"
      ]
     },
     "metadata": {
      "application/vnd.databricks.v1+output": {
       "addedWidgets": {},
       "aggData": [],
       "aggError": "",
       "aggOverflow": false,
       "aggSchema": [],
       "aggSeriesLimitReached": false,
       "aggType": "",
       "arguments": {},
       "columnCustomDisplayInfos": {},
       "data": [
        [
         1,
         "Street-hail"
        ],
        [
         2,
         "Dispatch"
        ]
       ],
       "datasetInfos": [],
       "dbfsResultPath": null,
       "isJsonSchema": true,
       "metadata": {},
       "overflow": false,
       "plotOptions": {
        "customPlotOptions": {},
        "displayType": "table",
        "pivotAggregation": null,
        "pivotColumns": null,
        "xColumns": null,
        "yColumns": null
       },
       "removedWidgets": [],
       "schema": [
        {
         "metadata": "{}",
         "name": "trip_type",
         "type": "\"integer\""
        },
        {
         "metadata": "{}",
         "name": "description",
         "type": "\"string\""
        }
       ],
       "type": "table"
      }
     },
     "output_type": "display_data"
    }
   ],
   "source": [
    "df_trip_type = spark.read.format('csv')\\\n",
    "                        .option('inferSchema',True)\\\n",
    "                        .option('header',True)\\\n",
    "                        .load('abfss://bronze@nyctaxidatalake00.dfs.core.windows.net/trip_type/')\n",
    "df_trip_type.display()"
   ]
  },
  {
   "cell_type": "markdown",
   "metadata": {
    "application/vnd.databricks.v1+cell": {
     "cellMetadata": {},
     "inputWidgets": {},
     "nuid": "5ab2b401-5736-4cb6-bf72-50d83f45b290",
     "showTitle": false,
     "tableResultSettingsMap": {},
     "title": ""
    }
   },
   "source": [
    "### trip_zone"
   ]
  },
  {
   "cell_type": "code",
   "execution_count": 0,
   "metadata": {
    "application/vnd.databricks.v1+cell": {
     "cellMetadata": {
      "byteLimit": 2048000,
      "rowLimit": 10000
     },
     "inputWidgets": {},
     "nuid": "48c1dea3-6f18-4aef-8d02-dfebfe59eb16",
     "showTitle": false,
     "tableResultSettingsMap": {},
     "title": ""
    }
   },
   "outputs": [
    {
     "output_type": "display_data",
     "data": {
      "text/html": [
       "<style scoped>\n",
       "  .table-result-container {\n",
       "    max-height: 300px;\n",
       "    overflow: auto;\n",
       "  }\n",
       "  table, th, td {\n",
       "    border: 1px solid black;\n",
       "    border-collapse: collapse;\n",
       "  }\n",
       "  th, td {\n",
       "    padding: 5px;\n",
       "  }\n",
       "  th {\n",
       "    text-align: left;\n",
       "  }\n",
       "</style><div class='table-result-container'><table class='table-result'><thead style='background-color: white'><tr><th>LocationID</th><th>Borough</th><th>Zone</th><th>service_zone</th></tr></thead><tbody><tr><td>1</td><td>EWR</td><td>Newark Airport</td><td>EWR</td></tr><tr><td>2</td><td>Queens</td><td>Jamaica Bay</td><td>Boro Zone</td></tr><tr><td>3</td><td>Bronx</td><td>Allerton/Pelham Gardens</td><td>Boro Zone</td></tr><tr><td>4</td><td>Manhattan</td><td>Alphabet City</td><td>Yellow Zone</td></tr><tr><td>5</td><td>Staten Island</td><td>Arden Heights</td><td>Boro Zone</td></tr><tr><td>6</td><td>Staten Island</td><td>Arrochar/Fort Wadsworth</td><td>Boro Zone</td></tr><tr><td>7</td><td>Queens</td><td>Astoria</td><td>Boro Zone</td></tr><tr><td>8</td><td>Queens</td><td>Astoria Park</td><td>Boro Zone</td></tr><tr><td>9</td><td>Queens</td><td>Auburndale</td><td>Boro Zone</td></tr><tr><td>10</td><td>Queens</td><td>Baisley Park</td><td>Boro Zone</td></tr></tbody></table></div>"
      ]
     },
     "metadata": {
      "application/vnd.databricks.v1+output": {
       "addedWidgets": {},
       "aggData": [],
       "aggError": "",
       "aggOverflow": false,
       "aggSchema": [],
       "aggSeriesLimitReached": false,
       "aggType": "",
       "arguments": {},
       "columnCustomDisplayInfos": {},
       "data": [
        [
         1,
         "EWR",
         "Newark Airport",
         "EWR"
        ],
        [
         2,
         "Queens",
         "Jamaica Bay",
         "Boro Zone"
        ],
        [
         3,
         "Bronx",
         "Allerton/Pelham Gardens",
         "Boro Zone"
        ],
        [
         4,
         "Manhattan",
         "Alphabet City",
         "Yellow Zone"
        ],
        [
         5,
         "Staten Island",
         "Arden Heights",
         "Boro Zone"
        ],
        [
         6,
         "Staten Island",
         "Arrochar/Fort Wadsworth",
         "Boro Zone"
        ],
        [
         7,
         "Queens",
         "Astoria",
         "Boro Zone"
        ],
        [
         8,
         "Queens",
         "Astoria Park",
         "Boro Zone"
        ],
        [
         9,
         "Queens",
         "Auburndale",
         "Boro Zone"
        ],
        [
         10,
         "Queens",
         "Baisley Park",
         "Boro Zone"
        ]
       ],
       "datasetInfos": [],
       "dbfsResultPath": null,
       "isJsonSchema": true,
       "metadata": {},
       "overflow": false,
       "plotOptions": {
        "customPlotOptions": {},
        "displayType": "table",
        "pivotAggregation": null,
        "pivotColumns": null,
        "xColumns": null,
        "yColumns": null
       },
       "removedWidgets": [],
       "schema": [
        {
         "metadata": "{}",
         "name": "LocationID",
         "type": "\"integer\""
        },
        {
         "metadata": "{}",
         "name": "Borough",
         "type": "\"string\""
        },
        {
         "metadata": "{}",
         "name": "Zone",
         "type": "\"string\""
        },
        {
         "metadata": "{}",
         "name": "service_zone",
         "type": "\"string\""
        }
       ],
       "type": "table"
      }
     },
     "output_type": "display_data"
    }
   ],
   "source": [
    "df_trip_zone = spark.read.format('csv')\\\n",
    "                        .option('inferSchema',True)\\\n",
    "                        .option('header',True)\\\n",
    "                        .load('abfss://bronze@nyctaxidatalake00.dfs.core.windows.net/trip_zone')\n",
    "df_trip_zone.limit(10).display()"
   ]
  },
  {
   "cell_type": "markdown",
   "metadata": {
    "application/vnd.databricks.v1+cell": {
     "cellMetadata": {},
     "inputWidgets": {},
     "nuid": "a4f65a43-8d55-4c8b-b688-f37952f5f801",
     "showTitle": false,
     "tableResultSettingsMap": {},
     "title": ""
    }
   },
   "source": [
    "Defining Schema"
   ]
  },
  {
   "cell_type": "code",
   "execution_count": 0,
   "metadata": {
    "application/vnd.databricks.v1+cell": {
     "cellMetadata": {
      "byteLimit": 2048000,
      "rowLimit": 10000
     },
     "inputWidgets": {},
     "nuid": "9ad2b123-1848-4223-a72d-5f7555a3f974",
     "showTitle": false,
     "tableResultSettingsMap": {},
     "title": ""
    }
   },
   "outputs": [],
   "source": [
    "my_schema = '''\n",
    "            VendorID BIGINT,\n",
    "            lpep_pickup_datetime TIMESTAMP,\n",
    "            lpep_dropoff_datetime TIMESTAMP,\n",
    "            store_and_fwd_flag STRING,\n",
    "            RatecodeID BIGINT,\n",
    "            PULocationID INT,\n",
    "            DOLocationID INT,\n",
    "            passenger_count BIGINT,\n",
    "            trip_distance DOUBLE,\n",
    "            fare_amount DOUBLE,\n",
    "            extra DOUBLE,\n",
    "            mta_tax DOUBLE,\n",
    "            tip_amount DOUBLE,\n",
    "            tolls_amount DOUBLE,\n",
    "            ehail_fee DOUBLE,\n",
    "            improvement_surcharge DOUBLE,\n",
    "            total_amount DOUBLE,\n",
    "            payment_type BIGINT,\n",
    "            trip_type BIGINT,\n",
    "            congestion_surcharge DOUBLE\n",
    "'''"
   ]
  },
  {
   "cell_type": "markdown",
   "metadata": {
    "application/vnd.databricks.v1+cell": {
     "cellMetadata": {},
     "inputWidgets": {},
     "nuid": "640e0380-d362-456e-8030-e8b8673b082a",
     "showTitle": false,
     "tableResultSettingsMap": {},
     "title": ""
    }
   },
   "source": [
    "RecursiveFileLookup"
   ]
  },
  {
   "cell_type": "code",
   "execution_count": 0,
   "metadata": {
    "application/vnd.databricks.v1+cell": {
     "cellMetadata": {
      "byteLimit": 2048000,
      "rowLimit": 10000
     },
     "inputWidgets": {},
     "nuid": "29b39359-8c78-4d68-bdbf-1c04be8c9fd9",
     "showTitle": false,
     "tableResultSettingsMap": {},
     "title": ""
    }
   },
   "outputs": [
    {
     "output_type": "display_data",
     "data": {
      "text/html": [
       "<style scoped>\n",
       "  .table-result-container {\n",
       "    max-height: 300px;\n",
       "    overflow: auto;\n",
       "  }\n",
       "  table, th, td {\n",
       "    border: 1px solid black;\n",
       "    border-collapse: collapse;\n",
       "  }\n",
       "  th, td {\n",
       "    padding: 5px;\n",
       "  }\n",
       "  th {\n",
       "    text-align: left;\n",
       "  }\n",
       "</style><div class='table-result-container'><table class='table-result'><thead style='background-color: white'><tr><th>VendorID</th><th>lpep_pickup_datetime</th><th>lpep_dropoff_datetime</th><th>store_and_fwd_flag</th><th>RatecodeID</th><th>PULocationID</th><th>DOLocationID</th><th>passenger_count</th><th>trip_distance</th><th>fare_amount</th><th>extra</th><th>mta_tax</th><th>tip_amount</th><th>tolls_amount</th><th>ehail_fee</th><th>improvement_surcharge</th><th>total_amount</th><th>payment_type</th><th>trip_type</th><th>congestion_surcharge</th></tr></thead><tbody><tr><td>2</td><td>2024-05-01T00:07:08.000Z</td><td>2024-05-01T00:15:03.000Z</td><td>N</td><td>1</td><td>65</td><td>49</td><td>1</td><td>1.24</td><td>9.3</td><td>1.0</td><td>0.5</td><td>2.0</td><td>0.0</td><td>null</td><td>1.0</td><td>13.8</td><td>1</td><td>1</td><td>0.0</td></tr><tr><td>2</td><td>2024-05-01T00:30:48.000Z</td><td>2024-05-01T00:35:49.000Z</td><td>N</td><td>1</td><td>7</td><td>179</td><td>1</td><td>0.94</td><td>7.2</td><td>1.0</td><td>0.5</td><td>1.94</td><td>0.0</td><td>null</td><td>1.0</td><td>11.64</td><td>1</td><td>1</td><td>0.0</td></tr><tr><td>2</td><td>2024-05-01T00:34:13.000Z</td><td>2024-05-01T00:38:07.000Z</td><td>N</td><td>1</td><td>74</td><td>42</td><td>1</td><td>0.84</td><td>6.5</td><td>1.0</td><td>0.5</td><td>0.0</td><td>0.0</td><td>null</td><td>1.0</td><td>9.0</td><td>2</td><td>1</td><td>0.0</td></tr><tr><td>2</td><td>2024-05-01T00:58:01.000Z</td><td>2024-05-01T01:14:41.000Z</td><td>N</td><td>1</td><td>75</td><td>235</td><td>1</td><td>6.07</td><td>25.4</td><td>1.0</td><td>0.5</td><td>5.0</td><td>0.0</td><td>null</td><td>1.0</td><td>32.9</td><td>1</td><td>1</td><td>0.0</td></tr><tr><td>2</td><td>2024-05-01T00:11:45.000Z</td><td>2024-05-01T00:20:38.000Z</td><td>N</td><td>1</td><td>256</td><td>49</td><td>2</td><td>2.06</td><td>12.1</td><td>1.0</td><td>0.5</td><td>2.92</td><td>0.0</td><td>null</td><td>1.0</td><td>17.52</td><td>1</td><td>1</td><td>0.0</td></tr><tr><td>1</td><td>2024-05-01T00:29:06.000Z</td><td>2024-05-01T00:36:03.000Z</td><td>N</td><td>1</td><td>210</td><td>210</td><td>1</td><td>1.3</td><td>9.3</td><td>1.0</td><td>1.5</td><td>1.0</td><td>0.0</td><td>null</td><td>1.0</td><td>12.8</td><td>1</td><td>1</td><td>0.0</td></tr><tr><td>2</td><td>2024-05-01T00:06:23.000Z</td><td>2024-05-01T00:18:18.000Z</td><td>N</td><td>1</td><td>66</td><td>4</td><td>5</td><td>4.35</td><td>19.8</td><td>1.0</td><td>0.5</td><td>3.0</td><td>0.0</td><td>null</td><td>1.0</td><td>28.05</td><td>1</td><td>1</td><td>2.75</td></tr><tr><td>2</td><td>2024-05-01T00:06:36.000Z</td><td>2024-05-01T00:18:03.000Z</td><td>N</td><td>1</td><td>95</td><td>95</td><td>1</td><td>2.02</td><td>13.5</td><td>1.0</td><td>0.5</td><td>0.0</td><td>0.0</td><td>null</td><td>1.0</td><td>16.0</td><td>2</td><td>1</td><td>0.0</td></tr><tr><td>2</td><td>2024-05-01T00:58:01.000Z</td><td>2024-05-01T01:07:35.000Z</td><td>N</td><td>1</td><td>24</td><td>143</td><td>1</td><td>2.35</td><td>12.8</td><td>1.0</td><td>0.5</td><td>3.0</td><td>0.0</td><td>null</td><td>1.0</td><td>21.05</td><td>1</td><td>1</td><td>2.75</td></tr><tr><td>2</td><td>2024-05-01T00:54:12.000Z</td><td>2024-05-01T00:58:51.000Z</td><td>N</td><td>5</td><td>210</td><td>210</td><td>1</td><td>1.3</td><td>8.0</td><td>0.0</td><td>0.0</td><td>0.0</td><td>0.0</td><td>null</td><td>1.0</td><td>9.0</td><td>1</td><td>2</td><td>0.0</td></tr></tbody></table></div>"
      ]
     },
     "metadata": {
      "application/vnd.databricks.v1+output": {
       "addedWidgets": {},
       "aggData": [],
       "aggError": "",
       "aggOverflow": false,
       "aggSchema": [],
       "aggSeriesLimitReached": false,
       "aggType": "",
       "arguments": {},
       "columnCustomDisplayInfos": {},
       "data": [
        [
         2,
         "2024-05-01T00:07:08.000Z",
         "2024-05-01T00:15:03.000Z",
         "N",
         1,
         65,
         49,
         1,
         1.24,
         9.3,
         1.0,
         0.5,
         2.0,
         0.0,
         null,
         1.0,
         13.8,
         1,
         1,
         0.0
        ],
        [
         2,
         "2024-05-01T00:30:48.000Z",
         "2024-05-01T00:35:49.000Z",
         "N",
         1,
         7,
         179,
         1,
         0.94,
         7.2,
         1.0,
         0.5,
         1.94,
         0.0,
         null,
         1.0,
         11.64,
         1,
         1,
         0.0
        ],
        [
         2,
         "2024-05-01T00:34:13.000Z",
         "2024-05-01T00:38:07.000Z",
         "N",
         1,
         74,
         42,
         1,
         0.84,
         6.5,
         1.0,
         0.5,
         0.0,
         0.0,
         null,
         1.0,
         9.0,
         2,
         1,
         0.0
        ],
        [
         2,
         "2024-05-01T00:58:01.000Z",
         "2024-05-01T01:14:41.000Z",
         "N",
         1,
         75,
         235,
         1,
         6.07,
         25.4,
         1.0,
         0.5,
         5.0,
         0.0,
         null,
         1.0,
         32.9,
         1,
         1,
         0.0
        ],
        [
         2,
         "2024-05-01T00:11:45.000Z",
         "2024-05-01T00:20:38.000Z",
         "N",
         1,
         256,
         49,
         2,
         2.06,
         12.1,
         1.0,
         0.5,
         2.92,
         0.0,
         null,
         1.0,
         17.52,
         1,
         1,
         0.0
        ],
        [
         1,
         "2024-05-01T00:29:06.000Z",
         "2024-05-01T00:36:03.000Z",
         "N",
         1,
         210,
         210,
         1,
         1.3,
         9.3,
         1.0,
         1.5,
         1.0,
         0.0,
         null,
         1.0,
         12.8,
         1,
         1,
         0.0
        ],
        [
         2,
         "2024-05-01T00:06:23.000Z",
         "2024-05-01T00:18:18.000Z",
         "N",
         1,
         66,
         4,
         5,
         4.35,
         19.8,
         1.0,
         0.5,
         3.0,
         0.0,
         null,
         1.0,
         28.05,
         1,
         1,
         2.75
        ],
        [
         2,
         "2024-05-01T00:06:36.000Z",
         "2024-05-01T00:18:03.000Z",
         "N",
         1,
         95,
         95,
         1,
         2.02,
         13.5,
         1.0,
         0.5,
         0.0,
         0.0,
         null,
         1.0,
         16.0,
         2,
         1,
         0.0
        ],
        [
         2,
         "2024-05-01T00:58:01.000Z",
         "2024-05-01T01:07:35.000Z",
         "N",
         1,
         24,
         143,
         1,
         2.35,
         12.8,
         1.0,
         0.5,
         3.0,
         0.0,
         null,
         1.0,
         21.05,
         1,
         1,
         2.75
        ],
        [
         2,
         "2024-05-01T00:54:12.000Z",
         "2024-05-01T00:58:51.000Z",
         "N",
         5,
         210,
         210,
         1,
         1.3,
         8.0,
         0.0,
         0.0,
         0.0,
         0.0,
         null,
         1.0,
         9.0,
         1,
         2,
         0.0
        ]
       ],
       "datasetInfos": [],
       "dbfsResultPath": null,
       "isJsonSchema": true,
       "metadata": {},
       "overflow": false,
       "plotOptions": {
        "customPlotOptions": {},
        "displayType": "table",
        "pivotAggregation": null,
        "pivotColumns": null,
        "xColumns": null,
        "yColumns": null
       },
       "removedWidgets": [],
       "schema": [
        {
         "metadata": "{}",
         "name": "VendorID",
         "type": "\"long\""
        },
        {
         "metadata": "{}",
         "name": "lpep_pickup_datetime",
         "type": "\"timestamp\""
        },
        {
         "metadata": "{}",
         "name": "lpep_dropoff_datetime",
         "type": "\"timestamp\""
        },
        {
         "metadata": "{}",
         "name": "store_and_fwd_flag",
         "type": "\"string\""
        },
        {
         "metadata": "{}",
         "name": "RatecodeID",
         "type": "\"long\""
        },
        {
         "metadata": "{}",
         "name": "PULocationID",
         "type": "\"integer\""
        },
        {
         "metadata": "{}",
         "name": "DOLocationID",
         "type": "\"integer\""
        },
        {
         "metadata": "{}",
         "name": "passenger_count",
         "type": "\"long\""
        },
        {
         "metadata": "{}",
         "name": "trip_distance",
         "type": "\"double\""
        },
        {
         "metadata": "{}",
         "name": "fare_amount",
         "type": "\"double\""
        },
        {
         "metadata": "{}",
         "name": "extra",
         "type": "\"double\""
        },
        {
         "metadata": "{}",
         "name": "mta_tax",
         "type": "\"double\""
        },
        {
         "metadata": "{}",
         "name": "tip_amount",
         "type": "\"double\""
        },
        {
         "metadata": "{}",
         "name": "tolls_amount",
         "type": "\"double\""
        },
        {
         "metadata": "{}",
         "name": "ehail_fee",
         "type": "\"double\""
        },
        {
         "metadata": "{}",
         "name": "improvement_surcharge",
         "type": "\"double\""
        },
        {
         "metadata": "{}",
         "name": "total_amount",
         "type": "\"double\""
        },
        {
         "metadata": "{}",
         "name": "payment_type",
         "type": "\"long\""
        },
        {
         "metadata": "{}",
         "name": "trip_type",
         "type": "\"long\""
        },
        {
         "metadata": "{}",
         "name": "congestion_surcharge",
         "type": "\"double\""
        }
       ],
       "type": "table"
      }
     },
     "output_type": "display_data"
    }
   ],
   "source": [
    "df_trip = spark.read.format('parquet')\\\n",
    "                    .schema(my_schema)\\\n",
    "                    .option('header',True)\\\n",
    "                    .option('recursiveFileLookup',True)\\\n",
    "                    .load('abfss://bronze@nyctaxidatalake00.dfs.core.windows.net/trips2024/')\n",
    "df_trip.limit(10).display()"
   ]
  },
  {
   "cell_type": "markdown",
   "metadata": {
    "application/vnd.databricks.v1+cell": {
     "cellMetadata": {},
     "inputWidgets": {},
     "nuid": "4e00366a-b6bd-411c-aaef-fc273f933900",
     "showTitle": false,
     "tableResultSettingsMap": {},
     "title": ""
    }
   },
   "source": [
    "# Data Transformation"
   ]
  },
  {
   "cell_type": "markdown",
   "metadata": {
    "application/vnd.databricks.v1+cell": {
     "cellMetadata": {},
     "inputWidgets": {},
     "nuid": "4b2050d0-148e-4d64-899b-a775824519cf",
     "showTitle": false,
     "tableResultSettingsMap": {},
     "title": ""
    }
   },
   "source": [
    "### Trip_Type"
   ]
  },
  {
   "cell_type": "code",
   "execution_count": 0,
   "metadata": {
    "application/vnd.databricks.v1+cell": {
     "cellMetadata": {
      "byteLimit": 2048000,
      "rowLimit": 10000
     },
     "inputWidgets": {},
     "nuid": "f56c5c71-ee60-4d45-b245-b7282e0ebed7",
     "showTitle": false,
     "tableResultSettingsMap": {},
     "title": ""
    }
   },
   "outputs": [
    {
     "output_type": "display_data",
     "data": {
      "text/html": [
       "<style scoped>\n",
       "  .table-result-container {\n",
       "    max-height: 300px;\n",
       "    overflow: auto;\n",
       "  }\n",
       "  table, th, td {\n",
       "    border: 1px solid black;\n",
       "    border-collapse: collapse;\n",
       "  }\n",
       "  th, td {\n",
       "    padding: 5px;\n",
       "  }\n",
       "  th {\n",
       "    text-align: left;\n",
       "  }\n",
       "</style><div class='table-result-container'><table class='table-result'><thead style='background-color: white'><tr><th>trip_type</th><th>trip_description</th></tr></thead><tbody><tr><td>1</td><td>Street-hail</td></tr><tr><td>2</td><td>Dispatch</td></tr></tbody></table></div>"
      ]
     },
     "metadata": {
      "application/vnd.databricks.v1+output": {
       "addedWidgets": {},
       "aggData": [],
       "aggError": "",
       "aggOverflow": false,
       "aggSchema": [],
       "aggSeriesLimitReached": false,
       "aggType": "",
       "arguments": {},
       "columnCustomDisplayInfos": {},
       "data": [
        [
         1,
         "Street-hail"
        ],
        [
         2,
         "Dispatch"
        ]
       ],
       "datasetInfos": [],
       "dbfsResultPath": null,
       "isJsonSchema": true,
       "metadata": {},
       "overflow": false,
       "plotOptions": {
        "customPlotOptions": {},
        "displayType": "table",
        "pivotAggregation": null,
        "pivotColumns": null,
        "xColumns": null,
        "yColumns": null
       },
       "removedWidgets": [],
       "schema": [
        {
         "metadata": "{}",
         "name": "trip_type",
         "type": "\"integer\""
        },
        {
         "metadata": "{}",
         "name": "trip_description",
         "type": "\"string\""
        }
       ],
       "type": "table"
      }
     },
     "output_type": "display_data"
    }
   ],
   "source": [
    "df_trip_type = df_trip_type.withColumnRenamed('description','trip_description')\n",
    "df_trip_type.display()"
   ]
  },
  {
   "cell_type": "code",
   "execution_count": 0,
   "metadata": {
    "application/vnd.databricks.v1+cell": {
     "cellMetadata": {
      "byteLimit": 2048000,
      "rowLimit": 10000
     },
     "inputWidgets": {},
     "nuid": "acac23fa-3571-4312-ae43-d029c027c330",
     "showTitle": false,
     "tableResultSettingsMap": {},
     "title": ""
    }
   },
   "outputs": [],
   "source": [
    "df_trip_type.write.format('parquet')\\\n",
    "                        .mode('append')\\\n",
    "                        .option('path','abfss://silver@nyctaxidatalake00.dfs.core.windows.net/trip_type')\\\n",
    "                        .save()"
   ]
  },
  {
   "cell_type": "markdown",
   "metadata": {
    "application/vnd.databricks.v1+cell": {
     "cellMetadata": {},
     "inputWidgets": {},
     "nuid": "a0065814-79d6-4890-bd68-0382921a77a1",
     "showTitle": false,
     "tableResultSettingsMap": {},
     "title": ""
    }
   },
   "source": [
    "### Trip_Zone"
   ]
  },
  {
   "cell_type": "code",
   "execution_count": 0,
   "metadata": {
    "application/vnd.databricks.v1+cell": {
     "cellMetadata": {
      "byteLimit": 2048000,
      "rowLimit": 10000
     },
     "inputWidgets": {},
     "nuid": "0df7cf8f-49e4-4273-acca-45ca0521baf6",
     "showTitle": false,
     "tableResultSettingsMap": {},
     "title": ""
    }
   },
   "outputs": [],
   "source": [
    "df_trip_zone = df_trip_zone.withColumn('zone1',split(col('Zone'),'/')[0])"
   ]
  },
  {
   "cell_type": "code",
   "execution_count": 0,
   "metadata": {
    "application/vnd.databricks.v1+cell": {
     "cellMetadata": {
      "byteLimit": 2048000,
      "rowLimit": 10000
     },
     "inputWidgets": {},
     "nuid": "3a4017c2-400b-49de-975d-5c74f1ee3377",
     "showTitle": false,
     "tableResultSettingsMap": {
      "0": {
       "dataGridStateBlob": "{\"version\":1,\"tableState\":{\"columnPinning\":{\"left\":[\"#row_number#\"],\"right\":[]},\"columnSizing\":{},\"columnVisibility\":{}},\"settings\":{\"columns\":{}},\"syncTimestamp\":1752128416107}",
       "filterBlob": null,
       "queryPlanFiltersBlob": null,
       "tableResultIndex": 0
      }
     },
     "title": ""
    }
   },
   "outputs": [
    {
     "output_type": "display_data",
     "data": {
      "text/html": [
       "<style scoped>\n",
       "  .table-result-container {\n",
       "    max-height: 300px;\n",
       "    overflow: auto;\n",
       "  }\n",
       "  table, th, td {\n",
       "    border: 1px solid black;\n",
       "    border-collapse: collapse;\n",
       "  }\n",
       "  th, td {\n",
       "    padding: 5px;\n",
       "  }\n",
       "  th {\n",
       "    text-align: left;\n",
       "  }\n",
       "</style><div class='table-result-container'><table class='table-result'><thead style='background-color: white'><tr><th>LocationID</th><th>Borough</th><th>Zone</th><th>service_zone</th><th>zone1</th></tr></thead><tbody><tr><td>1</td><td>EWR</td><td>Newark Airport</td><td>EWR</td><td>Newark Airport</td></tr><tr><td>2</td><td>Queens</td><td>Jamaica Bay</td><td>Boro Zone</td><td>Jamaica Bay</td></tr><tr><td>3</td><td>Bronx</td><td>Allerton/Pelham Gardens</td><td>Boro Zone</td><td>Allerton</td></tr><tr><td>4</td><td>Manhattan</td><td>Alphabet City</td><td>Yellow Zone</td><td>Alphabet City</td></tr><tr><td>5</td><td>Staten Island</td><td>Arden Heights</td><td>Boro Zone</td><td>Arden Heights</td></tr><tr><td>6</td><td>Staten Island</td><td>Arrochar/Fort Wadsworth</td><td>Boro Zone</td><td>Arrochar</td></tr><tr><td>7</td><td>Queens</td><td>Astoria</td><td>Boro Zone</td><td>Astoria</td></tr><tr><td>8</td><td>Queens</td><td>Astoria Park</td><td>Boro Zone</td><td>Astoria Park</td></tr><tr><td>9</td><td>Queens</td><td>Auburndale</td><td>Boro Zone</td><td>Auburndale</td></tr><tr><td>10</td><td>Queens</td><td>Baisley Park</td><td>Boro Zone</td><td>Baisley Park</td></tr></tbody></table></div>"
      ]
     },
     "metadata": {
      "application/vnd.databricks.v1+output": {
       "addedWidgets": {},
       "aggData": [],
       "aggError": "",
       "aggOverflow": false,
       "aggSchema": [],
       "aggSeriesLimitReached": false,
       "aggType": "",
       "arguments": {},
       "columnCustomDisplayInfos": {},
       "data": [
        [
         1,
         "EWR",
         "Newark Airport",
         "EWR",
         "Newark Airport"
        ],
        [
         2,
         "Queens",
         "Jamaica Bay",
         "Boro Zone",
         "Jamaica Bay"
        ],
        [
         3,
         "Bronx",
         "Allerton/Pelham Gardens",
         "Boro Zone",
         "Allerton"
        ],
        [
         4,
         "Manhattan",
         "Alphabet City",
         "Yellow Zone",
         "Alphabet City"
        ],
        [
         5,
         "Staten Island",
         "Arden Heights",
         "Boro Zone",
         "Arden Heights"
        ],
        [
         6,
         "Staten Island",
         "Arrochar/Fort Wadsworth",
         "Boro Zone",
         "Arrochar"
        ],
        [
         7,
         "Queens",
         "Astoria",
         "Boro Zone",
         "Astoria"
        ],
        [
         8,
         "Queens",
         "Astoria Park",
         "Boro Zone",
         "Astoria Park"
        ],
        [
         9,
         "Queens",
         "Auburndale",
         "Boro Zone",
         "Auburndale"
        ],
        [
         10,
         "Queens",
         "Baisley Park",
         "Boro Zone",
         "Baisley Park"
        ]
       ],
       "datasetInfos": [],
       "dbfsResultPath": null,
       "isJsonSchema": true,
       "metadata": {},
       "overflow": false,
       "plotOptions": {
        "customPlotOptions": {},
        "displayType": "table",
        "pivotAggregation": null,
        "pivotColumns": null,
        "xColumns": null,
        "yColumns": null
       },
       "removedWidgets": [],
       "schema": [
        {
         "metadata": "{}",
         "name": "LocationID",
         "type": "\"integer\""
        },
        {
         "metadata": "{}",
         "name": "Borough",
         "type": "\"string\""
        },
        {
         "metadata": "{}",
         "name": "Zone",
         "type": "\"string\""
        },
        {
         "metadata": "{}",
         "name": "service_zone",
         "type": "\"string\""
        },
        {
         "metadata": "{}",
         "name": "zone1",
         "type": "\"string\""
        }
       ],
       "type": "table"
      }
     },
     "output_type": "display_data"
    }
   ],
   "source": [
    "df_trip_zone.limit(10).display()"
   ]
  },
  {
   "cell_type": "code",
   "execution_count": 0,
   "metadata": {
    "application/vnd.databricks.v1+cell": {
     "cellMetadata": {
      "byteLimit": 2048000,
      "rowLimit": 10000
     },
     "inputWidgets": {},
     "nuid": "d237078d-d5b7-43cf-b1cd-2fa3485733ad",
     "showTitle": false,
     "tableResultSettingsMap": {},
     "title": ""
    }
   },
   "outputs": [],
   "source": [
    "df_trip_zone.write.format('parquet')\\\n",
    "                        .mode('append')\\\n",
    "                        .option('path','abfss://silver@nyctaxidatalake00.dfs.core.windows.net/trip_zone')\\\n",
    "                        .save()"
   ]
  },
  {
   "cell_type": "markdown",
   "metadata": {
    "application/vnd.databricks.v1+cell": {
     "cellMetadata": {},
     "inputWidgets": {},
     "nuid": "1e05f0da-91b8-4b6f-a1d9-a724630636eb",
     "showTitle": false,
     "tableResultSettingsMap": {},
     "title": ""
    }
   },
   "source": [
    "### Trip Data"
   ]
  },
  {
   "cell_type": "code",
   "execution_count": 0,
   "metadata": {
    "application/vnd.databricks.v1+cell": {
     "cellMetadata": {
      "byteLimit": 2048000,
      "rowLimit": 10000
     },
     "inputWidgets": {},
     "nuid": "b2768896-4596-4bd5-af77-bb804b842bc1",
     "showTitle": false,
     "tableResultSettingsMap": {},
     "title": ""
    }
   },
   "outputs": [
    {
     "output_type": "display_data",
     "data": {
      "text/html": [
       "<style scoped>\n",
       "  .table-result-container {\n",
       "    max-height: 300px;\n",
       "    overflow: auto;\n",
       "  }\n",
       "  table, th, td {\n",
       "    border: 1px solid black;\n",
       "    border-collapse: collapse;\n",
       "  }\n",
       "  th, td {\n",
       "    padding: 5px;\n",
       "  }\n",
       "  th {\n",
       "    text-align: left;\n",
       "  }\n",
       "</style><div class='table-result-container'><table class='table-result'><thead style='background-color: white'><tr><th>VendorID</th><th>lpep_pickup_datetime</th><th>lpep_dropoff_datetime</th><th>store_and_fwd_flag</th><th>RatecodeID</th><th>PULocationID</th><th>DOLocationID</th><th>passenger_count</th><th>trip_distance</th><th>fare_amount</th><th>extra</th><th>mta_tax</th><th>tip_amount</th><th>tolls_amount</th><th>ehail_fee</th><th>improvement_surcharge</th><th>total_amount</th><th>payment_type</th><th>trip_type</th><th>congestion_surcharge</th><th>Trip_Date</th><th>Trip_Year</th><th>Trip_Month</th><th>Trip_Day</th></tr></thead><tbody><tr><td>2</td><td>2024-05-01T00:07:08.000Z</td><td>2024-05-01T00:15:03.000Z</td><td>N</td><td>1</td><td>65</td><td>49</td><td>1</td><td>1.24</td><td>9.3</td><td>1.0</td><td>0.5</td><td>2.0</td><td>0.0</td><td>null</td><td>1.0</td><td>13.8</td><td>1</td><td>1</td><td>0.0</td><td>2024-05-01</td><td>2024</td><td>5</td><td>1</td></tr><tr><td>2</td><td>2024-05-01T00:30:48.000Z</td><td>2024-05-01T00:35:49.000Z</td><td>N</td><td>1</td><td>7</td><td>179</td><td>1</td><td>0.94</td><td>7.2</td><td>1.0</td><td>0.5</td><td>1.94</td><td>0.0</td><td>null</td><td>1.0</td><td>11.64</td><td>1</td><td>1</td><td>0.0</td><td>2024-05-01</td><td>2024</td><td>5</td><td>1</td></tr><tr><td>2</td><td>2024-05-01T00:34:13.000Z</td><td>2024-05-01T00:38:07.000Z</td><td>N</td><td>1</td><td>74</td><td>42</td><td>1</td><td>0.84</td><td>6.5</td><td>1.0</td><td>0.5</td><td>0.0</td><td>0.0</td><td>null</td><td>1.0</td><td>9.0</td><td>2</td><td>1</td><td>0.0</td><td>2024-05-01</td><td>2024</td><td>5</td><td>1</td></tr><tr><td>2</td><td>2024-05-01T00:58:01.000Z</td><td>2024-05-01T01:14:41.000Z</td><td>N</td><td>1</td><td>75</td><td>235</td><td>1</td><td>6.07</td><td>25.4</td><td>1.0</td><td>0.5</td><td>5.0</td><td>0.0</td><td>null</td><td>1.0</td><td>32.9</td><td>1</td><td>1</td><td>0.0</td><td>2024-05-01</td><td>2024</td><td>5</td><td>1</td></tr><tr><td>2</td><td>2024-05-01T00:11:45.000Z</td><td>2024-05-01T00:20:38.000Z</td><td>N</td><td>1</td><td>256</td><td>49</td><td>2</td><td>2.06</td><td>12.1</td><td>1.0</td><td>0.5</td><td>2.92</td><td>0.0</td><td>null</td><td>1.0</td><td>17.52</td><td>1</td><td>1</td><td>0.0</td><td>2024-05-01</td><td>2024</td><td>5</td><td>1</td></tr><tr><td>1</td><td>2024-05-01T00:29:06.000Z</td><td>2024-05-01T00:36:03.000Z</td><td>N</td><td>1</td><td>210</td><td>210</td><td>1</td><td>1.3</td><td>9.3</td><td>1.0</td><td>1.5</td><td>1.0</td><td>0.0</td><td>null</td><td>1.0</td><td>12.8</td><td>1</td><td>1</td><td>0.0</td><td>2024-05-01</td><td>2024</td><td>5</td><td>1</td></tr><tr><td>2</td><td>2024-05-01T00:06:23.000Z</td><td>2024-05-01T00:18:18.000Z</td><td>N</td><td>1</td><td>66</td><td>4</td><td>5</td><td>4.35</td><td>19.8</td><td>1.0</td><td>0.5</td><td>3.0</td><td>0.0</td><td>null</td><td>1.0</td><td>28.05</td><td>1</td><td>1</td><td>2.75</td><td>2024-05-01</td><td>2024</td><td>5</td><td>1</td></tr><tr><td>2</td><td>2024-05-01T00:06:36.000Z</td><td>2024-05-01T00:18:03.000Z</td><td>N</td><td>1</td><td>95</td><td>95</td><td>1</td><td>2.02</td><td>13.5</td><td>1.0</td><td>0.5</td><td>0.0</td><td>0.0</td><td>null</td><td>1.0</td><td>16.0</td><td>2</td><td>1</td><td>0.0</td><td>2024-05-01</td><td>2024</td><td>5</td><td>1</td></tr><tr><td>2</td><td>2024-05-01T00:58:01.000Z</td><td>2024-05-01T01:07:35.000Z</td><td>N</td><td>1</td><td>24</td><td>143</td><td>1</td><td>2.35</td><td>12.8</td><td>1.0</td><td>0.5</td><td>3.0</td><td>0.0</td><td>null</td><td>1.0</td><td>21.05</td><td>1</td><td>1</td><td>2.75</td><td>2024-05-01</td><td>2024</td><td>5</td><td>1</td></tr><tr><td>2</td><td>2024-05-01T00:54:12.000Z</td><td>2024-05-01T00:58:51.000Z</td><td>N</td><td>5</td><td>210</td><td>210</td><td>1</td><td>1.3</td><td>8.0</td><td>0.0</td><td>0.0</td><td>0.0</td><td>0.0</td><td>null</td><td>1.0</td><td>9.0</td><td>1</td><td>2</td><td>0.0</td><td>2024-05-01</td><td>2024</td><td>5</td><td>1</td></tr></tbody></table></div>"
      ]
     },
     "metadata": {
      "application/vnd.databricks.v1+output": {
       "addedWidgets": {},
       "aggData": [],
       "aggError": "",
       "aggOverflow": false,
       "aggSchema": [],
       "aggSeriesLimitReached": false,
       "aggType": "",
       "arguments": {},
       "columnCustomDisplayInfos": {},
       "data": [
        [
         2,
         "2024-05-01T00:07:08.000Z",
         "2024-05-01T00:15:03.000Z",
         "N",
         1,
         65,
         49,
         1,
         1.24,
         9.3,
         1.0,
         0.5,
         2.0,
         0.0,
         null,
         1.0,
         13.8,
         1,
         1,
         0.0,
         "2024-05-01",
         2024,
         5,
         1
        ],
        [
         2,
         "2024-05-01T00:30:48.000Z",
         "2024-05-01T00:35:49.000Z",
         "N",
         1,
         7,
         179,
         1,
         0.94,
         7.2,
         1.0,
         0.5,
         1.94,
         0.0,
         null,
         1.0,
         11.64,
         1,
         1,
         0.0,
         "2024-05-01",
         2024,
         5,
         1
        ],
        [
         2,
         "2024-05-01T00:34:13.000Z",
         "2024-05-01T00:38:07.000Z",
         "N",
         1,
         74,
         42,
         1,
         0.84,
         6.5,
         1.0,
         0.5,
         0.0,
         0.0,
         null,
         1.0,
         9.0,
         2,
         1,
         0.0,
         "2024-05-01",
         2024,
         5,
         1
        ],
        [
         2,
         "2024-05-01T00:58:01.000Z",
         "2024-05-01T01:14:41.000Z",
         "N",
         1,
         75,
         235,
         1,
         6.07,
         25.4,
         1.0,
         0.5,
         5.0,
         0.0,
         null,
         1.0,
         32.9,
         1,
         1,
         0.0,
         "2024-05-01",
         2024,
         5,
         1
        ],
        [
         2,
         "2024-05-01T00:11:45.000Z",
         "2024-05-01T00:20:38.000Z",
         "N",
         1,
         256,
         49,
         2,
         2.06,
         12.1,
         1.0,
         0.5,
         2.92,
         0.0,
         null,
         1.0,
         17.52,
         1,
         1,
         0.0,
         "2024-05-01",
         2024,
         5,
         1
        ],
        [
         1,
         "2024-05-01T00:29:06.000Z",
         "2024-05-01T00:36:03.000Z",
         "N",
         1,
         210,
         210,
         1,
         1.3,
         9.3,
         1.0,
         1.5,
         1.0,
         0.0,
         null,
         1.0,
         12.8,
         1,
         1,
         0.0,
         "2024-05-01",
         2024,
         5,
         1
        ],
        [
         2,
         "2024-05-01T00:06:23.000Z",
         "2024-05-01T00:18:18.000Z",
         "N",
         1,
         66,
         4,
         5,
         4.35,
         19.8,
         1.0,
         0.5,
         3.0,
         0.0,
         null,
         1.0,
         28.05,
         1,
         1,
         2.75,
         "2024-05-01",
         2024,
         5,
         1
        ],
        [
         2,
         "2024-05-01T00:06:36.000Z",
         "2024-05-01T00:18:03.000Z",
         "N",
         1,
         95,
         95,
         1,
         2.02,
         13.5,
         1.0,
         0.5,
         0.0,
         0.0,
         null,
         1.0,
         16.0,
         2,
         1,
         0.0,
         "2024-05-01",
         2024,
         5,
         1
        ],
        [
         2,
         "2024-05-01T00:58:01.000Z",
         "2024-05-01T01:07:35.000Z",
         "N",
         1,
         24,
         143,
         1,
         2.35,
         12.8,
         1.0,
         0.5,
         3.0,
         0.0,
         null,
         1.0,
         21.05,
         1,
         1,
         2.75,
         "2024-05-01",
         2024,
         5,
         1
        ],
        [
         2,
         "2024-05-01T00:54:12.000Z",
         "2024-05-01T00:58:51.000Z",
         "N",
         5,
         210,
         210,
         1,
         1.3,
         8.0,
         0.0,
         0.0,
         0.0,
         0.0,
         null,
         1.0,
         9.0,
         1,
         2,
         0.0,
         "2024-05-01",
         2024,
         5,
         1
        ]
       ],
       "datasetInfos": [],
       "dbfsResultPath": null,
       "isJsonSchema": true,
       "metadata": {},
       "overflow": false,
       "plotOptions": {
        "customPlotOptions": {},
        "displayType": "table",
        "pivotAggregation": null,
        "pivotColumns": null,
        "xColumns": null,
        "yColumns": null
       },
       "removedWidgets": [],
       "schema": [
        {
         "metadata": "{}",
         "name": "VendorID",
         "type": "\"long\""
        },
        {
         "metadata": "{}",
         "name": "lpep_pickup_datetime",
         "type": "\"timestamp\""
        },
        {
         "metadata": "{}",
         "name": "lpep_dropoff_datetime",
         "type": "\"timestamp\""
        },
        {
         "metadata": "{}",
         "name": "store_and_fwd_flag",
         "type": "\"string\""
        },
        {
         "metadata": "{}",
         "name": "RatecodeID",
         "type": "\"long\""
        },
        {
         "metadata": "{}",
         "name": "PULocationID",
         "type": "\"integer\""
        },
        {
         "metadata": "{}",
         "name": "DOLocationID",
         "type": "\"integer\""
        },
        {
         "metadata": "{}",
         "name": "passenger_count",
         "type": "\"long\""
        },
        {
         "metadata": "{}",
         "name": "trip_distance",
         "type": "\"double\""
        },
        {
         "metadata": "{}",
         "name": "fare_amount",
         "type": "\"double\""
        },
        {
         "metadata": "{}",
         "name": "extra",
         "type": "\"double\""
        },
        {
         "metadata": "{}",
         "name": "mta_tax",
         "type": "\"double\""
        },
        {
         "metadata": "{}",
         "name": "tip_amount",
         "type": "\"double\""
        },
        {
         "metadata": "{}",
         "name": "tolls_amount",
         "type": "\"double\""
        },
        {
         "metadata": "{}",
         "name": "ehail_fee",
         "type": "\"double\""
        },
        {
         "metadata": "{}",
         "name": "improvement_surcharge",
         "type": "\"double\""
        },
        {
         "metadata": "{}",
         "name": "total_amount",
         "type": "\"double\""
        },
        {
         "metadata": "{}",
         "name": "payment_type",
         "type": "\"long\""
        },
        {
         "metadata": "{}",
         "name": "trip_type",
         "type": "\"long\""
        },
        {
         "metadata": "{}",
         "name": "congestion_surcharge",
         "type": "\"double\""
        },
        {
         "metadata": "{}",
         "name": "Trip_Date",
         "type": "\"date\""
        },
        {
         "metadata": "{}",
         "name": "Trip_Year",
         "type": "\"integer\""
        },
        {
         "metadata": "{}",
         "name": "Trip_Month",
         "type": "\"integer\""
        },
        {
         "metadata": "{}",
         "name": "Trip_Day",
         "type": "\"integer\""
        }
       ],
       "type": "table"
      }
     },
     "output_type": "display_data"
    }
   ],
   "source": [
    "df_trip = df_trip.withColumn('Trip_Date',to_date(col('lpep_pickup_datetime')))\\\n",
    "                    .withColumn('Trip_Year',year(col('Trip_Date')))\\\n",
    "                    .withColumn('Trip_Month',month(col('Trip_Date')))\\\n",
    "                    .withColumn('Trip_Day',dayofmonth(col('Trip_Date')))\n",
    "df_trip.limit(10).display()"
   ]
  },
  {
   "cell_type": "code",
   "execution_count": 0,
   "metadata": {
    "application/vnd.databricks.v1+cell": {
     "cellMetadata": {
      "byteLimit": 2048000,
      "rowLimit": 10000
     },
     "inputWidgets": {},
     "nuid": "4e53bfd9-60b1-4d52-9dc1-f40dc2f896ad",
     "showTitle": false,
     "tableResultSettingsMap": {},
     "title": ""
    }
   },
   "outputs": [
    {
     "output_type": "display_data",
     "data": {
      "text/html": [
       "<style scoped>\n",
       "  .table-result-container {\n",
       "    max-height: 300px;\n",
       "    overflow: auto;\n",
       "  }\n",
       "  table, th, td {\n",
       "    border: 1px solid black;\n",
       "    border-collapse: collapse;\n",
       "  }\n",
       "  th, td {\n",
       "    padding: 5px;\n",
       "  }\n",
       "  th {\n",
       "    text-align: left;\n",
       "  }\n",
       "</style><div class='table-result-container'><table class='table-result'><thead style='background-color: white'><tr><th>VendorID</th><th>PULocationID</th><th>DOLocationID</th><th>trip_distance</th><th>fare_amount</th><th>total_amount</th></tr></thead><tbody><tr><td>2</td><td>65</td><td>49</td><td>1.24</td><td>9.3</td><td>13.8</td></tr><tr><td>2</td><td>7</td><td>179</td><td>0.94</td><td>7.2</td><td>11.64</td></tr><tr><td>2</td><td>74</td><td>42</td><td>0.84</td><td>6.5</td><td>9.0</td></tr><tr><td>2</td><td>75</td><td>235</td><td>6.07</td><td>25.4</td><td>32.9</td></tr><tr><td>2</td><td>256</td><td>49</td><td>2.06</td><td>12.1</td><td>17.52</td></tr><tr><td>1</td><td>210</td><td>210</td><td>1.3</td><td>9.3</td><td>12.8</td></tr><tr><td>2</td><td>66</td><td>4</td><td>4.35</td><td>19.8</td><td>28.05</td></tr><tr><td>2</td><td>95</td><td>95</td><td>2.02</td><td>13.5</td><td>16.0</td></tr><tr><td>2</td><td>24</td><td>143</td><td>2.35</td><td>12.8</td><td>21.05</td></tr><tr><td>2</td><td>210</td><td>210</td><td>1.3</td><td>8.0</td><td>9.0</td></tr></tbody></table></div>"
      ]
     },
     "metadata": {
      "application/vnd.databricks.v1+output": {
       "addedWidgets": {},
       "aggData": [],
       "aggError": "",
       "aggOverflow": false,
       "aggSchema": [],
       "aggSeriesLimitReached": false,
       "aggType": "",
       "arguments": {},
       "columnCustomDisplayInfos": {},
       "data": [
        [
         2,
         65,
         49,
         1.24,
         9.3,
         13.8
        ],
        [
         2,
         7,
         179,
         0.94,
         7.2,
         11.64
        ],
        [
         2,
         74,
         42,
         0.84,
         6.5,
         9.0
        ],
        [
         2,
         75,
         235,
         6.07,
         25.4,
         32.9
        ],
        [
         2,
         256,
         49,
         2.06,
         12.1,
         17.52
        ],
        [
         1,
         210,
         210,
         1.3,
         9.3,
         12.8
        ],
        [
         2,
         66,
         4,
         4.35,
         19.8,
         28.05
        ],
        [
         2,
         95,
         95,
         2.02,
         13.5,
         16.0
        ],
        [
         2,
         24,
         143,
         2.35,
         12.8,
         21.05
        ],
        [
         2,
         210,
         210,
         1.3,
         8.0,
         9.0
        ]
       ],
       "datasetInfos": [],
       "dbfsResultPath": null,
       "isJsonSchema": true,
       "metadata": {},
       "overflow": false,
       "plotOptions": {
        "customPlotOptions": {},
        "displayType": "table",
        "pivotAggregation": null,
        "pivotColumns": null,
        "xColumns": null,
        "yColumns": null
       },
       "removedWidgets": [],
       "schema": [
        {
         "metadata": "{}",
         "name": "VendorID",
         "type": "\"long\""
        },
        {
         "metadata": "{}",
         "name": "PULocationID",
         "type": "\"integer\""
        },
        {
         "metadata": "{}",
         "name": "DOLocationID",
         "type": "\"integer\""
        },
        {
         "metadata": "{}",
         "name": "trip_distance",
         "type": "\"double\""
        },
        {
         "metadata": "{}",
         "name": "fare_amount",
         "type": "\"double\""
        },
        {
         "metadata": "{}",
         "name": "total_amount",
         "type": "\"double\""
        }
       ],
       "type": "table"
      }
     },
     "output_type": "display_data"
    }
   ],
   "source": [
    "df_trip = df_trip.select('VendorID','PULocationID','DOLocationID','trip_distance','fare_amount','total_amount')\n",
    "df_trip.limit(10).display()"
   ]
  },
  {
   "cell_type": "code",
   "execution_count": 0,
   "metadata": {
    "application/vnd.databricks.v1+cell": {
     "cellMetadata": {
      "byteLimit": 2048000,
      "rowLimit": 10000
     },
     "inputWidgets": {},
     "nuid": "0eec9656-53f2-4ebe-9d7f-4c4b57563947",
     "showTitle": false,
     "tableResultSettingsMap": {},
     "title": ""
    }
   },
   "outputs": [],
   "source": [
    "df_trip.write.format('parquet')\\\n",
    "                        .mode('append')\\\n",
    "                        .option('path','abfss://silver@nyctaxidatalake00.dfs.core.windows.net/trips2024')\\\n",
    "                        .save()"
   ]
  },
  {
   "cell_type": "code",
   "execution_count": 0,
   "metadata": {
    "application/vnd.databricks.v1+cell": {
     "cellMetadata": {},
     "inputWidgets": {},
     "nuid": "3e10f131-1d76-4c46-89e6-acee3ebdc3a6",
     "showTitle": false,
     "tableResultSettingsMap": {},
     "title": ""
    }
   },
   "outputs": [],
   "source": []
  }
 ],
 "metadata": {
  "application/vnd.databricks.v1+notebook": {
   "computePreferences": null,
   "dashboards": [],
   "environmentMetadata": {
    "base_environment": "",
    "environment_version": "2"
   },
   "inputWidgetPreferences": null,
   "language": "python",
   "notebookMetadata": {
    "pythonIndentUnit": 4
   },
   "notebookName": "Silver_Layer",
   "widgets": {}
  },
  "language_info": {
   "name": "python"
  }
 },
 "nbformat": 4,
 "nbformat_minor": 0
}